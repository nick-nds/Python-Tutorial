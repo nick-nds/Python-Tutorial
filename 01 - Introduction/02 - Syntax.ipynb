{
 "cells": [
  {
   "cell_type": "markdown",
   "id": "412009e1",
   "metadata": {},
   "source": [
    "<h2>Python Indentation</h2>\n",
    "\n",
    "<p>Indentation refers to the spaces at the beginning of a code line.</p>\n",
    "<p>Where in other programming languages the indentation in code is for readability \n",
    "only, the indentation in Python is very important.</p>\n",
    "<p>Python uses indentation to indicate a block of code.</p>\n",
    "\n",
    "# Example"
   ]
  },
  {
   "cell_type": "code",
   "execution_count": 1,
   "id": "5da9485d",
   "metadata": {},
   "outputs": [
    {
     "name": "stdout",
     "output_type": "stream",
     "text": [
      "Five is greater than two\n"
     ]
    }
   ],
   "source": [
    "if 5 > 2:\n",
    "    print(\"Five is greater than two\")"
   ]
  },
  {
   "cell_type": "markdown",
   "id": "8b23f7aa",
   "metadata": {},
   "source": [
    "Python will give you an error if you skip the indentation:\n",
    "\n",
    "### Example\n",
    "Syntax Error:"
   ]
  },
  {
   "cell_type": "code",
   "execution_count": 2,
   "id": "fc0097bc",
   "metadata": {},
   "outputs": [
    {
     "ename": "IndentationError",
     "evalue": "expected an indented block (<ipython-input-2-c78deb9a90da>, line 2)",
     "output_type": "error",
     "traceback": [
      "\u001b[0;36m  File \u001b[0;32m\"<ipython-input-2-c78deb9a90da>\"\u001b[0;36m, line \u001b[0;32m2\u001b[0m\n\u001b[0;31m    print(\"Five is greater than two\")\u001b[0m\n\u001b[0m    ^\u001b[0m\n\u001b[0;31mIndentationError\u001b[0m\u001b[0;31m:\u001b[0m expected an indented block\n"
     ]
    }
   ],
   "source": [
    "if 5 > 2:\n",
    "print(\"Five is greater than two\")"
   ]
  },
  {
   "cell_type": "markdown",
   "id": "6bd0dd1a",
   "metadata": {},
   "source": [
    "The number of spaces is up to you as a programmer, but it has to be at least one.\n",
    "\n",
    "### Example"
   ]
  },
  {
   "cell_type": "code",
   "execution_count": 3,
   "id": "9fd3aa43",
   "metadata": {},
   "outputs": [
    {
     "name": "stdout",
     "output_type": "stream",
     "text": [
      "Five is greater than two!\n",
      "Five is greater than two!\n"
     ]
    }
   ],
   "source": [
    "if 5 > 2:\n",
    " print(\"Five is greater than two!\") \n",
    "if 5 > 2:\n",
    "        print(\"Five is greater than two!\") "
   ]
  },
  {
   "cell_type": "markdown",
   "id": "8b081f20",
   "metadata": {},
   "source": [
    "You have to use the same number of spaces in the same block of code, otherwise Python will give you an error:\n",
    "\n",
    "### Example\n",
    "Syntax Error:"
   ]
  },
  {
   "cell_type": "code",
   "execution_count": 4,
   "id": "93959332",
   "metadata": {},
   "outputs": [
    {
     "ename": "IndentationError",
     "evalue": "unexpected indent (<ipython-input-4-a4dba24e2a47>, line 3)",
     "output_type": "error",
     "traceback": [
      "\u001b[0;36m  File \u001b[0;32m\"<ipython-input-4-a4dba24e2a47>\"\u001b[0;36m, line \u001b[0;32m3\u001b[0m\n\u001b[0;31m    print(\"Five is greater than two!\")\u001b[0m\n\u001b[0m    ^\u001b[0m\n\u001b[0;31mIndentationError\u001b[0m\u001b[0;31m:\u001b[0m unexpected indent\n"
     ]
    }
   ],
   "source": [
    "if 5 > 2:\n",
    " print(\"Five is greater than two!\")\n",
    "        print(\"Five is greater than two!\")"
   ]
  },
  {
   "cell_type": "markdown",
   "id": "4229a0b0",
   "metadata": {},
   "source": [
    "<h2>Python Variables</h2>\n",
    "\n",
    "<p>In Python, variables are created when you assign a value to it:</p>\n",
    "\n",
    "### Example\n",
    "Variables in Python"
   ]
  },
  {
   "cell_type": "code",
   "execution_count": 5,
   "id": "b2e9d4bc",
   "metadata": {},
   "outputs": [],
   "source": [
    "x = 5\n",
    "y = \"Hello, World!\""
   ]
  },
  {
   "cell_type": "markdown",
   "id": "6e370371",
   "metadata": {},
   "source": [
    "Python has no command for declaring a variable.\n",
    "\n",
    "<h2>Comments</h2>\n",
    "\n",
    "<p>Python has commenting capability for the purpose of in-code documentation.</p>\n",
    "<p>Comments start with a #, and Python will render the rest of the line as a comment: </p>\n",
    "\n",
    "### Example\n",
    "Comments in Python:"
   ]
  },
  {
   "cell_type": "code",
   "execution_count": 6,
   "id": "10522075",
   "metadata": {},
   "outputs": [
    {
     "name": "stdout",
     "output_type": "stream",
     "text": [
      "Hello, World!\n"
     ]
    }
   ],
   "source": [
    "#This is a comment.\n",
    "print(\"Hello, World!\") # This is also a comment"
   ]
  },
  {
   "cell_type": "markdown",
   "id": "45ede8a3",
   "metadata": {},
   "source": [
    "<h2>Multi Line Comments</h2>\n",
    "\n",
    "<p>Python does not really have a syntax for multi line comments.</p>\n",
    "<p>To add a multiline comment you could insert a <span style=\"color: red;\"># </span> for each line:</p>\n",
    "\n",
    "### Example"
   ]
  },
  {
   "cell_type": "code",
   "execution_count": 7,
   "id": "fa161dbd",
   "metadata": {},
   "outputs": [
    {
     "name": "stdout",
     "output_type": "stream",
     "text": [
      "Hello, World!\n"
     ]
    }
   ],
   "source": [
    "#This is a comment\n",
    "#written in\n",
    "#more than just one line\n",
    "print(\"Hello, World!\")"
   ]
  },
  {
   "cell_type": "markdown",
   "id": "7ecdceba",
   "metadata": {},
   "source": [
    "Or, not quite as intended, you can use a multiline string.\n",
    "\n",
    "Since Python will ignore string literals that are not assigned to a variable, you can add a multiline string (triple quotes) in your code, and place your comment inside it:\n",
    "\n",
    "### Example"
   ]
  },
  {
   "cell_type": "code",
   "execution_count": 8,
   "id": "90f8d1e4",
   "metadata": {},
   "outputs": [
    {
     "name": "stdout",
     "output_type": "stream",
     "text": [
      "Hello, World!\n"
     ]
    }
   ],
   "source": [
    "\"\"\"\n",
    "This is a comment\n",
    "written in\n",
    "more than just one line\n",
    "\"\"\"\n",
    "print(\"Hello, World!\") "
   ]
  },
  {
   "cell_type": "markdown",
   "id": "c492e082",
   "metadata": {},
   "source": [
    "As long as the string is not assigned to a variable, Python will read the code, but then ignore it, and you have made a multiline comment."
   ]
  },
  {
   "cell_type": "code",
   "execution_count": null,
   "id": "761b84bf",
   "metadata": {},
   "outputs": [],
   "source": []
  }
 ],
 "metadata": {
  "kernelspec": {
   "display_name": "Python 3",
   "language": "python",
   "name": "python3"
  },
  "language_info": {
   "codemirror_mode": {
    "name": "ipython",
    "version": 3
   },
   "file_extension": ".py",
   "mimetype": "text/x-python",
   "name": "python",
   "nbconvert_exporter": "python",
   "pygments_lexer": "ipython3",
   "version": "3.8.8"
  }
 },
 "nbformat": 4,
 "nbformat_minor": 5
}
