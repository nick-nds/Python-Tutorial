{
 "cells": [
  {
   "cell_type": "markdown",
   "id": "4f103bd1",
   "metadata": {},
   "source": [
    "<h1> Variable Exercises</h1>\n",
    "\n",
    "<hr>\n",
    "<h2>Test Yourself With Exercises</h2>\n",
    "\n",
    "<p>Now you have learned a lot about variables, and how to use them in Python.</p>\n",
    "<p>Are you ready for a test?</p>\n",
    "\n",
    "<hr>\n",
    "\n",
    "### Exercise 1:\n",
    "\n",
    "Create a variable named <code>carname</code> and assign the value <code>Volvo</code> to it."
   ]
  },
  {
   "cell_type": "code",
   "execution_count": null,
   "id": "80ff5a1f",
   "metadata": {},
   "outputs": [],
   "source": []
  },
  {
   "cell_type": "markdown",
   "id": "fa911b2f",
   "metadata": {},
   "source": [
    "### Exercise 2:\n",
    "\n",
    "Create a variable named <code>x</code> and assign the value <code>50</code> to it."
   ]
  },
  {
   "cell_type": "code",
   "execution_count": null,
   "id": "85bb7f8e",
   "metadata": {},
   "outputs": [],
   "source": []
  },
  {
   "cell_type": "markdown",
   "id": "77f2a9db",
   "metadata": {},
   "source": [
    "### Exercise 3:\n",
    "\n",
    "Display the sum of <code>5 + 10</code>, using two variables: <code>x</code> and <code>y</code>."
   ]
  },
  {
   "cell_type": "code",
   "execution_count": null,
   "id": "f9b381aa",
   "metadata": {},
   "outputs": [],
   "source": []
  },
  {
   "cell_type": "markdown",
   "id": "342d8e32",
   "metadata": {},
   "source": [
    "### Exercise 4:\n",
    "\n",
    "Create a variable called <code>z</code>, assign <code>x + y</code> to it, and display the result. "
   ]
  },
  {
   "cell_type": "code",
   "execution_count": null,
   "id": "1ad33996",
   "metadata": {},
   "outputs": [],
   "source": []
  },
  {
   "cell_type": "markdown",
   "id": "dfd10011",
   "metadata": {},
   "source": [
    "### Exercise 5:\n",
    "\n",
    " Remove the illegal characters in the variable name:"
   ]
  },
  {
   "cell_type": "code",
   "execution_count": null,
   "id": "ffd957db",
   "metadata": {},
   "outputs": [],
   "source": [
    "2my-first_name = \"John\""
   ]
  },
  {
   "cell_type": "markdown",
   "id": "8ef195fe",
   "metadata": {},
   "source": [
    "### Exercise 6:\n",
    "\n",
    "Insert the correct syntax to assign the same value to all three variables in one code line. "
   ]
  },
  {
   "cell_type": "code",
   "execution_count": null,
   "id": "1096653b",
   "metadata": {},
   "outputs": [],
   "source": [
    "x y z \"Orange\""
   ]
  },
  {
   "cell_type": "markdown",
   "id": "7bc093e6",
   "metadata": {},
   "source": [
    "### Exercise 7:\n",
    "\n",
    "Insert the correct keyword to make the variable x belong to the global scope. "
   ]
  },
  {
   "cell_type": "code",
   "execution_count": null,
   "id": "9dc7014c",
   "metadata": {},
   "outputs": [],
   "source": [
    "def myfunc():\n",
    "   x\n",
    "  x = \"fantastic\""
   ]
  }
 ],
 "metadata": {
  "kernelspec": {
   "display_name": "Python 3",
   "language": "python",
   "name": "python3"
  },
  "language_info": {
   "codemirror_mode": {
    "name": "ipython",
    "version": 3
   },
   "file_extension": ".py",
   "mimetype": "text/x-python",
   "name": "python",
   "nbconvert_exporter": "python",
   "pygments_lexer": "ipython3",
   "version": "3.8.8"
  }
 },
 "nbformat": 4,
 "nbformat_minor": 5
}
