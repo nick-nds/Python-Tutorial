{
 "cells": [
  {
   "cell_type": "markdown",
   "id": "7e5f15cd",
   "metadata": {},
   "source": [
    "<h2>Many Values to Multiple Variables</h2>\n",
    "\n",
    "<p>Python allows you to assign values to multiple variables in one line:</p>\n",
    "\n",
    "### Example"
   ]
  },
  {
   "cell_type": "code",
   "execution_count": 1,
   "id": "b47006a8",
   "metadata": {},
   "outputs": [
    {
     "name": "stdout",
     "output_type": "stream",
     "text": [
      "Orange\n",
      "Banana\n",
      "Cherry\n"
     ]
    }
   ],
   "source": [
    "x, y, z = \"Orange\", \"Banana\", \"Cherry\"\n",
    "print(x)\n",
    "print(y)\n",
    "print(z)"
   ]
  },
  {
   "cell_type": "markdown",
   "id": "bace1cfe",
   "metadata": {},
   "source": [
    "<p style=\"background-color:#ffffcc; padding: 20px 10px;\">Remember that variable names are case-sensitive</p>\n",
    "\n",
    "<hr>\n",
    "\n",
    "<h2>One Value to Multiple Variables</h2>\n",
    "\n",
    "<p>And you can assign the <em>same</em> value to multiple variables in one line:</p>\n",
    "\n",
    "### Example"
   ]
  },
  {
   "cell_type": "code",
   "execution_count": 2,
   "id": "6a7d309e",
   "metadata": {},
   "outputs": [
    {
     "name": "stdout",
     "output_type": "stream",
     "text": [
      "Orange\n",
      "Orange\n",
      "Orange\n"
     ]
    }
   ],
   "source": [
    "x = y = z = \"Orange\"\n",
    "print(x)\n",
    "print(y)\n",
    "print(z)"
   ]
  },
  {
   "cell_type": "markdown",
   "id": "60b3c7ac",
   "metadata": {},
   "source": [
    "<hr>\n",
    "<h2>Unpack a Collection</h2>\n",
    "\n",
    "<p>If you have a collection of values in a list, tuple etc.\n",
    "Python allows you extract the values into variables. This is called <em>unpacking</em>.</p>\n",
    "\n",
    "### Example\n",
    "\n",
    "Unpack a list:"
   ]
  },
  {
   "cell_type": "code",
   "execution_count": 3,
   "id": "9f60d3ab",
   "metadata": {},
   "outputs": [
    {
     "name": "stdout",
     "output_type": "stream",
     "text": [
      "apple\n",
      "banana\n",
      "cherry\n"
     ]
    }
   ],
   "source": [
    "fruits = [\"apple\", \"banana\", \"cherry\"]\n",
    "x, y, z = fruits\n",
    "print(x)\n",
    "print(y)\n",
    "print(z)"
   ]
  },
  {
   "cell_type": "code",
   "execution_count": null,
   "id": "b7863ce5",
   "metadata": {},
   "outputs": [],
   "source": []
  }
 ],
 "metadata": {
  "kernelspec": {
   "display_name": "Python 3",
   "language": "python",
   "name": "python3"
  },
  "language_info": {
   "codemirror_mode": {
    "name": "ipython",
    "version": 3
   },
   "file_extension": ".py",
   "mimetype": "text/x-python",
   "name": "python",
   "nbconvert_exporter": "python",
   "pygments_lexer": "ipython3",
   "version": "3.8.8"
  }
 },
 "nbformat": 4,
 "nbformat_minor": 5
}
