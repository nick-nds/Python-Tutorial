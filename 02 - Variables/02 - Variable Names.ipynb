{
 "cells": [
  {
   "cell_type": "markdown",
   "id": "809aada9",
   "metadata": {},
   "source": [
    "<h1>Python - Variable Names</h1>\n",
    "\n",
    "<h2>Variable Names</h2>\n",
    "\n",
    "A variable can have a short name (like x and y) or a more descriptive name (age, carname, total_volume).\n",
    "\n",
    "Rules for Python variables:\n",
    "\n",
    "<ul>\n",
    "<li>A variable name must start with a letter or the underscore character</li>\n",
    "<li>A variable name cannot start with a number</li>\n",
    "<li>A variable name can only contain alpha-numeric characters and underscores (A-z, 0-9, and _ )</li>\n",
    "<li>Variable names are case-sensitive (age, Age and AGE are three different variables)</li>\n",
    "</ul>\n",
    "<div class=\"w3-example\">\n",
    "<h3>Example</h3>\n",
    "<p>Legal variable names:</p>"
   ]
  },
  {
   "cell_type": "code",
   "execution_count": 1,
   "id": "23a68e23",
   "metadata": {},
   "outputs": [],
   "source": [
    "myvar = \"John\"\n",
    "my_var = \"John\"\n",
    "_my_var = \"John\"\n",
    "myVar = \"John\"\n",
    "MYVAR = \"John\"\n",
    "myvar2 = \"John\""
   ]
  },
  {
   "cell_type": "markdown",
   "id": "3a549b61",
   "metadata": {},
   "source": [
    "### Example\n",
    "<p>Illegal variable names:</p>\n"
   ]
  },
  {
   "cell_type": "code",
   "execution_count": 2,
   "id": "9ce547f8",
   "metadata": {},
   "outputs": [
    {
     "ename": "SyntaxError",
     "evalue": "invalid syntax (<ipython-input-2-0e82719f22b4>, line 1)",
     "output_type": "error",
     "traceback": [
      "\u001b[0;36m  File \u001b[0;32m\"<ipython-input-2-0e82719f22b4>\"\u001b[0;36m, line \u001b[0;32m1\u001b[0m\n\u001b[0;31m    2myvar = \"John\"\u001b[0m\n\u001b[0m     ^\u001b[0m\n\u001b[0;31mSyntaxError\u001b[0m\u001b[0;31m:\u001b[0m invalid syntax\n"
     ]
    }
   ],
   "source": [
    "2myvar = \"John\"\n",
    "my-var = \"John\"\n",
    "my var = \"John\""
   ]
  },
  {
   "cell_type": "markdown",
   "id": "14b8142a",
   "metadata": {},
   "source": [
    "<p style=\"background-color:#ffffcc; padding: 20px 10px;\">Remember that variable names are case-sensitive</p>\n",
    "\n",
    "<hr>\n",
    "\n",
    "<h2>Multi Words Variable Names</h2>\n",
    "\n",
    "<p>Variable names with more than one word can be difficult to read.</p>\n",
    "\n",
    "<p>There are several techniques you can use to make them more readable:</p>\n",
    "<h2>Camel Case</h2>\n",
    "<p>Each word, except the first, starts with a capital letter:</p>"
   ]
  },
  {
   "cell_type": "code",
   "execution_count": 3,
   "id": "5850ed06",
   "metadata": {},
   "outputs": [],
   "source": [
    " myVariableName = \"John\" "
   ]
  },
  {
   "cell_type": "markdown",
   "id": "a0ac17e9",
   "metadata": {},
   "source": [
    "<hr>\n",
    "<h2>Pascal Case</h2>\n",
    "<p>Each word starts with a capital letter:</p>\n"
   ]
  },
  {
   "cell_type": "code",
   "execution_count": 4,
   "id": "ec0a9186",
   "metadata": {},
   "outputs": [],
   "source": [
    "MyVariableName = \"John\""
   ]
  },
  {
   "cell_type": "markdown",
   "id": "408bb589",
   "metadata": {},
   "source": [
    "<hr>\n",
    "<h2>Snake Case</h2>\n",
    "<p>Each word is separated by an underscore character:</p>"
   ]
  },
  {
   "cell_type": "code",
   "execution_count": 5,
   "id": "1881df1c",
   "metadata": {},
   "outputs": [],
   "source": [
    "my_variable_name = \"John\""
   ]
  }
 ],
 "metadata": {
  "kernelspec": {
   "display_name": "Python 3",
   "language": "python",
   "name": "python3"
  },
  "language_info": {
   "codemirror_mode": {
    "name": "ipython",
    "version": 3
   },
   "file_extension": ".py",
   "mimetype": "text/x-python",
   "name": "python",
   "nbconvert_exporter": "python",
   "pygments_lexer": "ipython3",
   "version": "3.8.8"
  }
 },
 "nbformat": 4,
 "nbformat_minor": 5
}
