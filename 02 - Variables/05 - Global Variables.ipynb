{
 "cells": [
  {
   "cell_type": "markdown",
   "id": "97da8554",
   "metadata": {},
   "source": [
    "<h2>Global Variables</h2>\n",
    "\n",
    "<p>Variables that are created outside of a function (as in all of the examples \n",
    "above) are known as global variables.</p>\n",
    "<p>Global variables can be used by everyone, both inside of \n",
    "functions and outside.</p>\n",
    "\n",
    "### Example\n",
    "\n",
    "Create a variable outside of a function, and use it inside the function"
   ]
  },
  {
   "cell_type": "code",
   "execution_count": 1,
   "id": "4ba92d34",
   "metadata": {},
   "outputs": [
    {
     "name": "stdout",
     "output_type": "stream",
     "text": [
      "Python is awesome\n"
     ]
    }
   ],
   "source": [
    "x = \"awesome\"\n",
    "\n",
    "def myfunc():\n",
    "  print(\"Python is \" + x)\n",
    "\n",
    "myfunc() "
   ]
  },
  {
   "cell_type": "markdown",
   "id": "e9d66491",
   "metadata": {},
   "source": [
    "<hr>\n",
    "If you create a variable with the same name inside a function, this variable will be local, and can only be used inside the function. The global variable with the same name will remain as it was, global and with the original value.\n",
    "\n",
    "### Example\n",
    "\n",
    "Create a variable inside a function, with the same name as the global variable"
   ]
  },
  {
   "cell_type": "code",
   "execution_count": 2,
   "id": "0b505464",
   "metadata": {},
   "outputs": [
    {
     "name": "stdout",
     "output_type": "stream",
     "text": [
      "Python is fantastic\n",
      "Python is awesome\n"
     ]
    }
   ],
   "source": [
    "x = \"awesome\"\n",
    "\n",
    "def myfunc():\n",
    "  x = \"fantastic\"\n",
    "  print(\"Python is \" + x)\n",
    "\n",
    "myfunc()\n",
    "\n",
    "print(\"Python is \" + x) "
   ]
  },
  {
   "cell_type": "markdown",
   "id": "53a63132",
   "metadata": {},
   "source": [
    "\n",
    "<hr>\n",
    "\n",
    "<h2>The global Keyword</h2>\n",
    "<p>Normally, when you create a variable inside a function, that variable is \n",
    "local, and can only be used inside that function.</p>\n",
    "<p>To create a global variable inside a function, you can use the <code style=\"color: red;\">global</code> keyword.</p>\n",
    "\n",
    "### Example\n",
    "\n",
    "If you use the <code style=\"color: red;\">global</code> keyword, the variable belongs to the global scope:"
   ]
  },
  {
   "cell_type": "code",
   "execution_count": 3,
   "id": "9aa0b91d",
   "metadata": {},
   "outputs": [
    {
     "name": "stdout",
     "output_type": "stream",
     "text": [
      "Python is fantastic\n"
     ]
    }
   ],
   "source": [
    "def myfunc():\n",
    "  global x\n",
    "  x = \"fantastic\"\n",
    "\n",
    "myfunc()\n",
    "\n",
    "print(\"Python is \" + x) "
   ]
  },
  {
   "cell_type": "markdown",
   "id": "cfeb9fad",
   "metadata": {},
   "source": [
    "<hr>\n",
    "Also, use the <code style=\"color: red;\">global</code> keyword if you want to change a global variable inside a function.\n",
    "\n",
    "### Example\n",
    "To change the value of a global variable inside a function, refer to the variable by using the <code style=\"color: red;\">global</code> keyword."
   ]
  },
  {
   "cell_type": "code",
   "execution_count": 4,
   "id": "9cd3bf4e",
   "metadata": {},
   "outputs": [
    {
     "name": "stdout",
     "output_type": "stream",
     "text": [
      "Python is fantastic\n"
     ]
    }
   ],
   "source": [
    "x = \"awesome\"\n",
    "\n",
    "def myfunc():\n",
    "  global x\n",
    "  x = \"fantastic\"\n",
    "\n",
    "myfunc()\n",
    "\n",
    "print(\"Python is \" + x) "
   ]
  },
  {
   "cell_type": "code",
   "execution_count": null,
   "id": "3e9db758",
   "metadata": {},
   "outputs": [],
   "source": []
  }
 ],
 "metadata": {
  "kernelspec": {
   "display_name": "Python 3",
   "language": "python",
   "name": "python3"
  },
  "language_info": {
   "codemirror_mode": {
    "name": "ipython",
    "version": 3
   },
   "file_extension": ".py",
   "mimetype": "text/x-python",
   "name": "python",
   "nbconvert_exporter": "python",
   "pygments_lexer": "ipython3",
   "version": "3.8.8"
  }
 },
 "nbformat": 4,
 "nbformat_minor": 5
}
