{
 "cells": [
  {
   "cell_type": "markdown",
   "id": "9f1439fa",
   "metadata": {},
   "source": [
    "<h2>Specify a Variable Type</h2>\n",
    "\n",
    "<p>There may be times when you want to specify a type on to a variable. This can be done with casting. Python is an object-orientated language, and as such it uses classes to define data types, including its primitive types.</p>\n",
    "\n",
    "<p>Casting in python is therefore done using constructor functions:</p>\n",
    "<ul>\n",
    "\t<li><code style=\"color:red;\">int()</code> - constructs an integer number from an integer literal, a float literal (by removing \n",
    "    all decimals), or a string literal (providing the string represents a whole number)</li>\n",
    "\t<li><code style=\"color:red;\">float()</code> - constructs a float number from an integer literal, a float literal or a string literal (providing the string represents a float or an integer)</li>\n",
    "\t<li><code style=\"color:red;\">str()</code> - constructs a string from a wide variety of data types, including strings, integer literals and float literals</li>\n",
    "</ul>\n",
    "\n",
    "### Example\n",
    "\n",
    "Integers"
   ]
  },
  {
   "cell_type": "code",
   "execution_count": 1,
   "id": "52e93b32",
   "metadata": {},
   "outputs": [],
   "source": [
    "x = int(1)   # x will be 1\n",
    "y = int(2.8) # y will be 2\n",
    "z = int(\"3\") # z will be 3"
   ]
  },
  {
   "cell_type": "markdown",
   "id": "0b5f3220",
   "metadata": {},
   "source": [
    "### Example\n",
    "\n",
    "Floats"
   ]
  },
  {
   "cell_type": "code",
   "execution_count": 2,
   "id": "6dbd17b0",
   "metadata": {},
   "outputs": [],
   "source": [
    " x = float(1)     # x will be 1.0\n",
    "y = float(2.8)   # y will be 2.8\n",
    "z = float(\"3\")   # z will be 3.0\n",
    "w = float(\"4.2\") # w will be 4.2"
   ]
  },
  {
   "cell_type": "markdown",
   "id": "9904d4bc",
   "metadata": {},
   "source": [
    "### Example\n",
    "Strings"
   ]
  },
  {
   "cell_type": "code",
   "execution_count": 3,
   "id": "317e8d9f",
   "metadata": {},
   "outputs": [],
   "source": [
    "x = str(\"s1\") # x will be 's1'\n",
    "y = str(2)    # y will be '2'\n",
    "z = str(3.0)  # z will be '3.0' "
   ]
  }
 ],
 "metadata": {
  "kernelspec": {
   "display_name": "Python 3",
   "language": "python",
   "name": "python3"
  },
  "language_info": {
   "codemirror_mode": {
    "name": "ipython",
    "version": 3
   },
   "file_extension": ".py",
   "mimetype": "text/x-python",
   "name": "python",
   "nbconvert_exporter": "python",
   "pygments_lexer": "ipython3",
   "version": "3.8.8"
  }
 },
 "nbformat": 4,
 "nbformat_minor": 5
}
