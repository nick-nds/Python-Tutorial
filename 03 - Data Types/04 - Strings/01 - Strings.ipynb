{
 "cells": [
  {
   "cell_type": "markdown",
   "id": "7f831b34",
   "metadata": {},
   "source": [
    "<h2>Strings</h2>\n",
    "\n",
    "<p>Strings in python are surrounded by either single quotation marks, or double quotation marks.</p>\n",
    "\n",
    "<p><code style=\"color:red;\">'hello'</code> is the same as <code style=\"color:red;\">\"hello\"</code>.</p>\n",
    "\n",
    "<p>You can display a string literal with the <code style=\"color:red;\">print()</code> function:</p>\n",
    "\n",
    "### Example"
   ]
  },
  {
   "cell_type": "code",
   "execution_count": 1,
   "id": "5e6a063c",
   "metadata": {},
   "outputs": [
    {
     "name": "stdout",
     "output_type": "stream",
     "text": [
      "Hello\n",
      "Hello\n"
     ]
    }
   ],
   "source": [
    "print(\"Hello\")\n",
    "print('Hello')"
   ]
  },
  {
   "cell_type": "markdown",
   "id": "fc01b120",
   "metadata": {},
   "source": [
    "<hr>\n",
    "<h2>Assign String to a Variable</h2>\n",
    "\n",
    "<p>Assigning a string to a variable is done with the variable name followed by \n",
    "an equal sign and the string:</p>\n",
    "\n",
    "### Example"
   ]
  },
  {
   "cell_type": "code",
   "execution_count": 2,
   "id": "ec38cabf",
   "metadata": {},
   "outputs": [
    {
     "name": "stdout",
     "output_type": "stream",
     "text": [
      "Hello\n"
     ]
    }
   ],
   "source": [
    "a = \"Hello\"\n",
    "print(a)"
   ]
  },
  {
   "cell_type": "markdown",
   "id": "9df0c9e5",
   "metadata": {},
   "source": [
    "<hr>\n",
    "\n",
    "<h2>Multiline Strings</h2>\n",
    "\n",
    "<p>You can assign a multiline string to a variable by using three quotes:</p>\n",
    "\n",
    "### Example"
   ]
  },
  {
   "cell_type": "code",
   "execution_count": 3,
   "id": "d64badf7",
   "metadata": {},
   "outputs": [
    {
     "name": "stdout",
     "output_type": "stream",
     "text": [
      "Lorem ipsum dolor sit amet,\n",
      "consectetur adipiscing elit,\n",
      "sed do eiusmod tempor incididunt\n",
      "ut labore et dolore magna aliqua.\n"
     ]
    }
   ],
   "source": [
    "a = \"\"\"Lorem ipsum dolor sit amet,\n",
    "consectetur adipiscing elit,\n",
    "sed do eiusmod tempor incididunt\n",
    "ut labore et dolore magna aliqua.\"\"\"\n",
    "print(a) "
   ]
  },
  {
   "cell_type": "markdown",
   "id": "28b28694",
   "metadata": {},
   "source": [
    "<hr>Or three single quotes:\n",
    "\n",
    "### Example"
   ]
  },
  {
   "cell_type": "code",
   "execution_count": 4,
   "id": "06e1156f",
   "metadata": {},
   "outputs": [
    {
     "name": "stdout",
     "output_type": "stream",
     "text": [
      "Lorem ipsum dolor sit amet,\n",
      "consectetur adipiscing elit,\n",
      "sed do eiusmod tempor incididunt\n",
      "ut labore et dolore magna aliqua.\n"
     ]
    }
   ],
   "source": [
    "a = '''Lorem ipsum dolor sit amet,\n",
    "consectetur adipiscing elit,\n",
    "sed do eiusmod tempor incididunt\n",
    "ut labore et dolore magna aliqua.'''\n",
    "print(a) "
   ]
  },
  {
   "cell_type": "markdown",
   "id": "e73c2ace",
   "metadata": {},
   "source": [
    "<hr>\n",
    "<p style=\"background-color:#ffffcc; padding: 20px 10px;\"><b>Note:</b> In the result, the line breaks are inserted at the same position as in the code.</p>\n",
    "\n",
    "<h2>Strings are Arrays</h2>\n",
    "\n",
    "<p>Like many other popular programming languages, strings in Python are arrays of bytes representing unicode characters.</p>\n",
    "<p>However, Python does not have a character data type, a single character is simply a string with a length of 1.</p>\n",
    "<p>Square brackets can be used to access elements of the string.</p>\n",
    "\n",
    "### Example\n",
    "\n",
    "Get the character at position 1 (remember that the first character has the position 0):"
   ]
  },
  {
   "cell_type": "code",
   "execution_count": 5,
   "id": "acf9a8f7",
   "metadata": {},
   "outputs": [
    {
     "name": "stdout",
     "output_type": "stream",
     "text": [
      "e\n"
     ]
    }
   ],
   "source": [
    "a = \"Hello, World!\"\n",
    "print(a[1])"
   ]
  },
  {
   "cell_type": "markdown",
   "id": "c332ab9e",
   "metadata": {},
   "source": [
    "<hr>\n",
    "\n",
    "<h2>Looping Through a String</h2>\n",
    "\n",
    "<p>Since strings are arrays, we can loop through the characters in a string, with a <code style=\"color:red;\">for</code> loop.</p>\n",
    "\n",
    "### Example\n",
    "\n",
    "Loop through the letters in the word \"banana\":"
   ]
  },
  {
   "cell_type": "code",
   "execution_count": 6,
   "id": "7a594b4b",
   "metadata": {},
   "outputs": [
    {
     "name": "stdout",
     "output_type": "stream",
     "text": [
      "b\n",
      "a\n",
      "n\n",
      "a\n",
      "n\n",
      "a\n"
     ]
    }
   ],
   "source": [
    "for x in \"banana\":\n",
    "  print(x)"
   ]
  },
  {
   "cell_type": "markdown",
   "id": "d9148e65",
   "metadata": {},
   "source": [
    "<hr>\n",
    "<h2>String Length</h2>\n",
    "\n",
    "<p>To get the length of a string, use the <code style=\"color:red;\">len()</code> function.</p>\n",
    "\n",
    "### Example\n",
    "\n",
    "The <code style=\"color:red;\">len()</code> function returns the length of a string:"
   ]
  },
  {
   "cell_type": "code",
   "execution_count": 7,
   "id": "5bc3ce6c",
   "metadata": {},
   "outputs": [
    {
     "name": "stdout",
     "output_type": "stream",
     "text": [
      "13\n"
     ]
    }
   ],
   "source": [
    "a = \"Hello, World!\"\n",
    "print(len(a))"
   ]
  },
  {
   "cell_type": "markdown",
   "id": "bc23ebaf",
   "metadata": {},
   "source": [
    "<hr>\n",
    "<h2>Check String</h2>\n",
    "\n",
    "<p>To check if a certain phrase or character is present in a string, we can use \n",
    "the keyword \n",
    "<code style=\"color:red;\">in</code>.</p>\n",
    "\n",
    "### Example\n",
    "\n",
    "Check if \"free\" is present in the following text:"
   ]
  },
  {
   "cell_type": "code",
   "execution_count": 8,
   "id": "6e8db031",
   "metadata": {},
   "outputs": [
    {
     "name": "stdout",
     "output_type": "stream",
     "text": [
      "True\n"
     ]
    }
   ],
   "source": [
    "txt = \"The best things in life are free!\"\n",
    "print(\"free\" in txt)"
   ]
  },
  {
   "cell_type": "markdown",
   "id": "e58c908f",
   "metadata": {},
   "source": [
    "<hr>\n",
    "Use it in an <code style=\"color:red;\">if</code> statement.\n",
    "\n",
    "### Example\n",
    "Print only if \"free\" is present:"
   ]
  },
  {
   "cell_type": "code",
   "execution_count": 10,
   "id": "0ea23ab8",
   "metadata": {},
   "outputs": [
    {
     "name": "stdout",
     "output_type": "stream",
     "text": [
      "Yes, 'free' is present.\n"
     ]
    }
   ],
   "source": [
    "txt = \"The best things in life are free!\"\n",
    "if \"free\" in txt:\n",
    "  print(\"Yes, 'free' is present.\")"
   ]
  },
  {
   "cell_type": "markdown",
   "id": "861c7d04",
   "metadata": {},
   "source": [
    "<hr>\n",
    "\n",
    "<h2>Check if NOT</h2>\n",
    "\n",
    "<p>To check if a certain phrase or character is NOT present in a string, we can use \n",
    "the keyword <code style=\"color:red;\">not in</code>.</p>\n",
    "\n",
    "### Example\n",
    "Check if \"expensive\" is NOT present in the following text:"
   ]
  },
  {
   "cell_type": "code",
   "execution_count": 11,
   "id": "20cffc7c",
   "metadata": {},
   "outputs": [
    {
     "name": "stdout",
     "output_type": "stream",
     "text": [
      "True\n"
     ]
    }
   ],
   "source": [
    "txt = \"The best things in life are free!\"\n",
    "print(\"expensive\" not in txt)"
   ]
  },
  {
   "cell_type": "markdown",
   "id": "2fe39dbf",
   "metadata": {},
   "source": [
    "<hr>\n",
    "Use it in an <code style=\"color:red;\">if</code> statement.\n",
    "\n",
    "### Example\n",
    "print only if \"expensive\" is NOT present:"
   ]
  },
  {
   "cell_type": "code",
   "execution_count": 12,
   "id": "436a0687",
   "metadata": {},
   "outputs": [
    {
     "name": "stdout",
     "output_type": "stream",
     "text": [
      "No, 'expensive' is NOT present.\n"
     ]
    }
   ],
   "source": [
    "txt = \"The best things in life are free!\"\n",
    "if \"expensive\" not in txt:\n",
    "  print(\"No, 'expensive' is NOT present.\")"
   ]
  }
 ],
 "metadata": {
  "kernelspec": {
   "display_name": "Python 3",
   "language": "python",
   "name": "python3"
  },
  "language_info": {
   "codemirror_mode": {
    "name": "ipython",
    "version": 3
   },
   "file_extension": ".py",
   "mimetype": "text/x-python",
   "name": "python",
   "nbconvert_exporter": "python",
   "pygments_lexer": "ipython3",
   "version": "3.8.8"
  }
 },
 "nbformat": 4,
 "nbformat_minor": 5
}
