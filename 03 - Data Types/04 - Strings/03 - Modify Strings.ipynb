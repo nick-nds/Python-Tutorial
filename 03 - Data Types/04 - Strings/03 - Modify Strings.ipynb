{
 "cells": [
  {
   "cell_type": "markdown",
   "id": "b8e46dc3",
   "metadata": {},
   "source": [
    "<h1>Modify Strings</h1>\n",
    "<p>Python has a set of built-in methods that you can use on strings.</p>\n",
    "<hr>\n",
    "<h2>Upper Case</h2>\n",
    "\n",
    "### Example\n",
    "<p>The <code style=\"color: red;\">upper()</code> method returns the string in upper case:</p>"
   ]
  },
  {
   "cell_type": "code",
   "execution_count": 6,
   "id": "0781796d",
   "metadata": {},
   "outputs": [
    {
     "name": "stdout",
     "output_type": "stream",
     "text": [
      "HELLO, WORLD!\n"
     ]
    }
   ],
   "source": [
    "a = \"Hello, World!\"\n",
    "print(a.upper())"
   ]
  },
  {
   "cell_type": "markdown",
   "id": "a69f07c3",
   "metadata": {},
   "source": [
    "<hr>\n",
    "<h2>Lower Case</h2>\n",
    "\n",
    "### Example\n",
    "The <code style=\"color: red;\">lower()</code>  method returns the string in lower case:"
   ]
  },
  {
   "cell_type": "code",
   "execution_count": 7,
   "id": "f2c5a014",
   "metadata": {},
   "outputs": [
    {
     "name": "stdout",
     "output_type": "stream",
     "text": [
      "hello, world!\n"
     ]
    }
   ],
   "source": [
    "a = \"Hello, World!\"\n",
    "print(a.lower())"
   ]
  },
  {
   "cell_type": "markdown",
   "id": "6b706614",
   "metadata": {},
   "source": [
    "<hr>\n",
    "<h2>Remove Whitespace</h2>\n",
    "\n",
    "Whitespace is the space before and/or after the actual text, and very often you want to remove this space.\n",
    "\n",
    "### Example\n",
    "The <code style=\"color: red;\">strip()</code>  method removes any whitespace from the beginning or the end:"
   ]
  },
  {
   "cell_type": "code",
   "execution_count": 8,
   "id": "776d26f6",
   "metadata": {},
   "outputs": [
    {
     "name": "stdout",
     "output_type": "stream",
     "text": [
      "Hello, World!\n"
     ]
    }
   ],
   "source": [
    "a = \" Hello, World! \"\n",
    "print(a.strip()) # returns \"Hello, World!\" "
   ]
  },
  {
   "cell_type": "markdown",
   "id": "dd72bd36",
   "metadata": {},
   "source": [
    "<hr>\n",
    "<h2>Replace String</h2>\n",
    "\n",
    "### Example\n",
    "The <code style=\"color: red;\">replace()</code> method replaces a string with another string:"
   ]
  },
  {
   "cell_type": "code",
   "execution_count": 9,
   "id": "cfa5b533",
   "metadata": {},
   "outputs": [
    {
     "name": "stdout",
     "output_type": "stream",
     "text": [
      "Jello, World!\n"
     ]
    }
   ],
   "source": [
    "a = \"Hello, World!\"\n",
    "print(a.replace(\"H\", \"J\"))"
   ]
  },
  {
   "cell_type": "markdown",
   "id": "b925ec76",
   "metadata": {},
   "source": [
    "<hr>\n",
    "<h2>Split String</h2>\n",
    "\n",
    "The <code style=\"color: red;\">split()</code> method returns a list where the text between the specified separator becomes the list items.\n",
    "\n",
    "### Example\n",
    "The <code style=\"color: red;\">split()</code> method splits the string into substrings if it finds instances of the separator:"
   ]
  },
  {
   "cell_type": "code",
   "execution_count": 5,
   "id": "cf15d251",
   "metadata": {},
   "outputs": [
    {
     "name": "stdout",
     "output_type": "stream",
     "text": [
      "['Hello', ' World!']\n"
     ]
    }
   ],
   "source": [
    "a = \"Hello, World!\"\n",
    "print(a.split(\",\")) # returns ['Hello', ' World!'] "
   ]
  },
  {
   "cell_type": "markdown",
   "id": "1325d612",
   "metadata": {},
   "source": [
    "<hr>\n",
    "\n",
    "<h2>String Methods</h2>\n",
    "<p>Learn more about String Methods with our <a href=\"https://www.w3schools.com/python/python_ref_string.asp\">String Methods Reference</a></p>"
   ]
  }
 ],
 "metadata": {
  "kernelspec": {
   "display_name": "Python 3",
   "language": "python",
   "name": "python3"
  },
  "language_info": {
   "codemirror_mode": {
    "name": "ipython",
    "version": 3
   },
   "file_extension": ".py",
   "mimetype": "text/x-python",
   "name": "python",
   "nbconvert_exporter": "python",
   "pygments_lexer": "ipython3",
   "version": "3.8.8"
  }
 },
 "nbformat": 4,
 "nbformat_minor": 5
}
