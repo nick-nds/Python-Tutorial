{
 "cells": [
  {
   "cell_type": "markdown",
   "id": "e600c769",
   "metadata": {},
   "source": [
    "<h1>Slicing Strings</h1>\n",
    "\n",
    "<h2>Slicing</h2>\n",
    "\n",
    "<p>You can return a range of characters by using the slice syntax.</p>\n",
    "\n",
    "<p>Specify the start index and the end index, separated by a colon, to return a part of the string.</p>\n",
    "\n",
    "### Example\n",
    "\n",
    "Get the characters from position 2 to position 5 (not included):"
   ]
  },
  {
   "cell_type": "code",
   "execution_count": 1,
   "id": "ec82bc7b",
   "metadata": {},
   "outputs": [
    {
     "name": "stdout",
     "output_type": "stream",
     "text": [
      "llo\n"
     ]
    }
   ],
   "source": [
    "b = \"Hello, World!\"\n",
    "print(b[2:5])"
   ]
  },
  {
   "cell_type": "markdown",
   "id": "e8a32017",
   "metadata": {},
   "source": [
    "<hr>\n",
    "<p style=\"background-color:#ffffcc; padding: 20px 10px;\"><b>Note:</b> The first character has index 0.</p>\n",
    "\n",
    "<hr>\n",
    "\n",
    "<h2>Slice From the Start</h2>\n",
    "<p>By leaving out the start index, the range will start at the first character:</p>\n",
    "\n",
    "### Example\n",
    "\n",
    "Get the characters from the start to position 5 (not included):"
   ]
  },
  {
   "cell_type": "code",
   "execution_count": 2,
   "id": "50f9ac0f",
   "metadata": {},
   "outputs": [
    {
     "name": "stdout",
     "output_type": "stream",
     "text": [
      "Hello\n"
     ]
    }
   ],
   "source": [
    "b = \"Hello, World!\"\n",
    "print(b[:5])"
   ]
  },
  {
   "cell_type": "markdown",
   "id": "3b150f9b",
   "metadata": {},
   "source": [
    "<hr>\n",
    "<h2>Slice To the End</h2>\n",
    "<p>By leaving out the <em>end </em>index, the range will go to the end:</p>\n",
    "\n",
    "### Example\n",
    "Get the characters from position 2, and all the way to the end:"
   ]
  },
  {
   "cell_type": "code",
   "execution_count": 3,
   "id": "1037e748",
   "metadata": {},
   "outputs": [
    {
     "name": "stdout",
     "output_type": "stream",
     "text": [
      "llo, World!\n"
     ]
    }
   ],
   "source": [
    "b = \"Hello, World!\"\n",
    "print(b[2:])"
   ]
  },
  {
   "cell_type": "markdown",
   "id": "b4d5ea36",
   "metadata": {},
   "source": [
    "<hr>\n",
    "\n",
    "<h2>Negative Indexing</h2>\n",
    "\n",
    "Use negative indexes to start the slice from the end of the string:\n",
    "\n",
    "### Example\n",
    "Get the characters:\n",
    "\n",
    "From: \"o\" in \"World!\" (position -5)\n",
    "\n",
    "To, but not included: \"d\" in \"World!\" (position -2):"
   ]
  },
  {
   "cell_type": "code",
   "execution_count": 4,
   "id": "039dc7f1",
   "metadata": {},
   "outputs": [
    {
     "name": "stdout",
     "output_type": "stream",
     "text": [
      "orl\n"
     ]
    }
   ],
   "source": [
    "b = \"Hello, World!\"\n",
    "print(b[-5:-2])"
   ]
  }
 ],
 "metadata": {
  "kernelspec": {
   "display_name": "Python 3",
   "language": "python",
   "name": "python3"
  },
  "language_info": {
   "codemirror_mode": {
    "name": "ipython",
    "version": 3
   },
   "file_extension": ".py",
   "mimetype": "text/x-python",
   "name": "python",
   "nbconvert_exporter": "python",
   "pygments_lexer": "ipython3",
   "version": "3.8.8"
  }
 },
 "nbformat": 4,
 "nbformat_minor": 5
}
