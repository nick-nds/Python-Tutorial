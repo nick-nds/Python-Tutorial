{
 "cells": [
  {
   "cell_type": "markdown",
   "id": "28bd4c5d",
   "metadata": {},
   "source": [
    "\n",
    "<h2>Python Numbers</h2>\n",
    "\n",
    "<p>There are three numeric types in Python:</p>\n",
    "<ul>\n",
    "  <li><code class=\"w3-codespan\">int</code></li>\n",
    "  <li><code class=\"w3-codespan\">float</code></li>\n",
    "  <li><code class=\"w3-codespan\">complex</code></li>\n",
    "</ul>\n",
    "\n",
    "<p>Variables of numeric types are created when you assign a value to them:</p>\n",
    "\n",
    "### Example"
   ]
  },
  {
   "cell_type": "code",
   "execution_count": 1,
   "id": "0d1bb0b9",
   "metadata": {},
   "outputs": [],
   "source": [
    "x = 1    # int\n",
    "y = 2.8  # float\n",
    "z = 1j   # complex"
   ]
  },
  {
   "cell_type": "markdown",
   "id": "8eea346c",
   "metadata": {},
   "source": [
    "<p>To verify the type of any object in Python, use the <code style=\"color: red;\">type()</code> function:</p>\n",
    "\n",
    "### Example"
   ]
  },
  {
   "cell_type": "code",
   "execution_count": 2,
   "id": "03f37a40",
   "metadata": {},
   "outputs": [
    {
     "name": "stdout",
     "output_type": "stream",
     "text": [
      "<class 'int'>\n",
      "<class 'float'>\n",
      "<class 'complex'>\n"
     ]
    }
   ],
   "source": [
    "print(type(x))\n",
    "print(type(y))\n",
    "print(type(z))"
   ]
  },
  {
   "cell_type": "markdown",
   "id": "089a6c59",
   "metadata": {},
   "source": [
    "<hr>\n",
    "\n",
    "<h2>Int</h2>\n",
    "\n",
    "<p>Int, or integer, is a whole number, \n",
    "positive or negative, without decimals, of unlimited length.</p>\n",
    "\n",
    "### Example\n",
    "Integers"
   ]
  },
  {
   "cell_type": "code",
   "execution_count": 3,
   "id": "c193d1fb",
   "metadata": {},
   "outputs": [
    {
     "name": "stdout",
     "output_type": "stream",
     "text": [
      "<class 'int'>\n",
      "<class 'int'>\n",
      "<class 'int'>\n"
     ]
    }
   ],
   "source": [
    "x = 1\n",
    "y = 35656222554887711\n",
    "z = -3255522\n",
    "\n",
    "print(type(x))\n",
    "print(type(y))\n",
    "print(type(z)) "
   ]
  },
  {
   "cell_type": "markdown",
   "id": "32e22d81",
   "metadata": {},
   "source": [
    "\n",
    "<hr>\n",
    "\n",
    "<h2>Float</h2>\n",
    "\n",
    "<p>Float, or \"floating point number\" is a number, positive or negative, containing one or more decimals.</p>\n",
    "\n",
    "### Example\n",
    "Floats:"
   ]
  },
  {
   "cell_type": "code",
   "execution_count": 4,
   "id": "baccd150",
   "metadata": {},
   "outputs": [
    {
     "name": "stdout",
     "output_type": "stream",
     "text": [
      "<class 'float'>\n",
      "<class 'float'>\n",
      "<class 'float'>\n"
     ]
    }
   ],
   "source": [
    "x = 1.10\n",
    "y = 1.0\n",
    "z = -35.59\n",
    "\n",
    "print(type(x))\n",
    "print(type(y))\n",
    "print(type(z)) "
   ]
  },
  {
   "cell_type": "markdown",
   "id": "52d4dcfc",
   "metadata": {},
   "source": [
    "<hr>Float can also be scientific numbers with an \"e\" to indicate the power of 10.\n",
    "\n",
    "### Example\n",
    "\n",
    "Floats:"
   ]
  },
  {
   "cell_type": "code",
   "execution_count": 6,
   "id": "f50f1f4e",
   "metadata": {},
   "outputs": [
    {
     "name": "stdout",
     "output_type": "stream",
     "text": [
      "<class 'float'>\n",
      "<class 'float'>\n",
      "<class 'float'>\n"
     ]
    }
   ],
   "source": [
    "x = 35e3\n",
    "y = 12e4\n",
    "z = -87.7e100\n",
    "\n",
    "print(type(x))\n",
    "print(type(y))\n",
    "print(type(z)) "
   ]
  },
  {
   "cell_type": "markdown",
   "id": "5a1c071a",
   "metadata": {},
   "source": [
    "<hr>\n",
    "<h2>Complex</h2>\n",
    "\n",
    "<p>Complex numbers are written with a &quot;j&quot; as the imaginary part:</p>\n",
    "\n",
    "\n",
    "### Example\n",
    "\n",
    "Complex:"
   ]
  },
  {
   "cell_type": "code",
   "execution_count": 7,
   "id": "fc82a530",
   "metadata": {},
   "outputs": [
    {
     "name": "stdout",
     "output_type": "stream",
     "text": [
      "<class 'complex'>\n",
      "<class 'complex'>\n",
      "<class 'complex'>\n"
     ]
    }
   ],
   "source": [
    "x = 3+5j\n",
    "y = 5j\n",
    "z = -5j\n",
    "\n",
    "print(type(x))\n",
    "print(type(y))\n",
    "print(type(z)) "
   ]
  },
  {
   "cell_type": "markdown",
   "id": "056c210d",
   "metadata": {},
   "source": [
    "<hr>\n",
    "\n",
    "<h2>Type Conversion</h2>\n",
    "\n",
    "<p>You can convert from one type to another with the <code style=\"color:red;\">int()</code>, \n",
    "<code style=\"color:red;\">float()</code>, and <code style=\"color:red;\">complex()</code> methods:</p>\n",
    "\n",
    "### Example\n",
    "Convert from one type to another:"
   ]
  },
  {
   "cell_type": "code",
   "execution_count": 8,
   "id": "70f3e11c",
   "metadata": {},
   "outputs": [
    {
     "name": "stdout",
     "output_type": "stream",
     "text": [
      "1.0\n",
      "2\n",
      "(1+0j)\n",
      "<class 'float'>\n",
      "<class 'int'>\n",
      "<class 'complex'>\n"
     ]
    }
   ],
   "source": [
    "x = 1    # int\n",
    "y = 2.8  # float\n",
    "z = 1j   # complex\n",
    "\n",
    "#convert from int to float:\n",
    "a = float(x)\n",
    "\n",
    "#convert from float to int:\n",
    "b = int(y)\n",
    "\n",
    "#convert from int to complex:\n",
    "c = complex(x)\n",
    "\n",
    "print(a)\n",
    "print(b)\n",
    "print(c)\n",
    "\n",
    "print(type(a))\n",
    "print(type(b))\n",
    "print(type(c)) "
   ]
  },
  {
   "cell_type": "markdown",
   "id": "fb03e3e1",
   "metadata": {},
   "source": [
    "<hr>\n",
    "<p style=\"background-color:#ffffcc; padding: 20px 10px;\"><b>Note:</b> You cannot convert complex numbers into another number type.</p>\n",
    "\n",
    "\n",
    "<hr>\n",
    "\n",
    "<h2>Random Number</h2>\n",
    "\n",
    "<p>Python does not have a <code style=\"color:red;\">random()</code> function to \n",
    "make a random number, but Python has a built-in module called\n",
    "<code style=\"color:red;\">random</code> that can be used to make random numbers:</p>\n",
    "\n",
    "### Example\n",
    "Import the random module, and display a random number between 1 and 9:"
   ]
  },
  {
   "cell_type": "code",
   "execution_count": 10,
   "id": "031e4021",
   "metadata": {},
   "outputs": [
    {
     "name": "stdout",
     "output_type": "stream",
     "text": [
      "4\n"
     ]
    }
   ],
   "source": [
    "import random\n",
    "\n",
    "print(random.randrange(1, 10)) "
   ]
  },
  {
   "cell_type": "code",
   "execution_count": null,
   "id": "1edb6438",
   "metadata": {},
   "outputs": [],
   "source": []
  }
 ],
 "metadata": {
  "kernelspec": {
   "display_name": "Python 3",
   "language": "python",
   "name": "python3"
  },
  "language_info": {
   "codemirror_mode": {
    "name": "ipython",
    "version": 3
   },
   "file_extension": ".py",
   "mimetype": "text/x-python",
   "name": "python",
   "nbconvert_exporter": "python",
   "pygments_lexer": "ipython3",
   "version": "3.8.8"
  }
 },
 "nbformat": 4,
 "nbformat_minor": 5
}
